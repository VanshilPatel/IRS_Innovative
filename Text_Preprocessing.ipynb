{
 "cells": [
  {
   "cell_type": "code",
   "execution_count": 1,
   "metadata": {},
   "outputs": [],
   "source": [
    "import pandas as pd\n",
    "import string\n",
    "from functools import reduce\n",
    "from operator import add\n",
    "import ast\n",
    "import re\n",
    "import spacy\n"
   ]
  },
  {
   "cell_type": "markdown",
   "metadata": {},
   "source": [
    "# Data Pre-processing"
   ]
  },
  {
   "cell_type": "code",
   "execution_count": 2,
   "metadata": {},
   "outputs": [],
   "source": [
    "df=pd.read_csv('archive/Food Ingredients and Recipe Dataset with Image Name Mapping.csv',index_col=0)"
   ]
  },
  {
   "cell_type": "code",
   "execution_count": 3,
   "metadata": {},
   "outputs": [
    {
     "name": "stdout",
     "output_type": "stream",
     "text": [
      "DataFrame Info:\n",
      "<class 'pandas.core.frame.DataFrame'>\n",
      "Index: 13501 entries, 0 to 13500\n",
      "Data columns (total 5 columns):\n",
      " #   Column               Non-Null Count  Dtype \n",
      "---  ------               --------------  ----- \n",
      " 0   Title                13496 non-null  object\n",
      " 1   Ingredients          13501 non-null  object\n",
      " 2   Instructions         13493 non-null  object\n",
      " 3   Image_Name           13501 non-null  object\n",
      " 4   Cleaned_Ingredients  13501 non-null  object\n",
      "dtypes: object(5)\n",
      "memory usage: 632.9+ KB\n",
      "None\n",
      "\n",
      "Missing Values:\n",
      "Title                  5\n",
      "Ingredients            0\n",
      "Instructions           8\n",
      "Image_Name             0\n",
      "Cleaned_Ingredients    0\n",
      "dtype: int64\n"
     ]
    }
   ],
   "source": [
    "print(\"DataFrame Info:\")\n",
    "print(df.info())\n",
    "\n",
    "print(\"\\nMissing Values:\")\n",
    "print(df.isnull().sum())\n"
   ]
  },
  {
   "cell_type": "code",
   "execution_count": 4,
   "metadata": {},
   "outputs": [
    {
     "name": "stdout",
     "output_type": "stream",
     "text": [
      "DataFrame Info after dropping missing values:\n",
      "<class 'pandas.core.frame.DataFrame'>\n",
      "Index: 13493 entries, 0 to 13500\n",
      "Data columns (total 5 columns):\n",
      " #   Column               Non-Null Count  Dtype \n",
      "---  ------               --------------  ----- \n",
      " 0   Title                13493 non-null  object\n",
      " 1   Ingredients          13493 non-null  object\n",
      " 2   Instructions         13493 non-null  object\n",
      " 3   Image_Name           13493 non-null  object\n",
      " 4   Cleaned_Ingredients  13493 non-null  object\n",
      "dtypes: object(5)\n",
      "memory usage: 632.5+ KB\n",
      "None\n"
     ]
    }
   ],
   "source": [
    "df.dropna(inplace=True)\n",
    "\n",
    "# Confirm that missing values have been dropped\n",
    "print(\"DataFrame Info after dropping missing values:\")\n",
    "print(df.info())"
   ]
  },
  {
   "cell_type": "code",
   "execution_count": 5,
   "metadata": {},
   "outputs": [
    {
     "data": {
      "text/plain": [
       "(13493, 5)"
      ]
     },
     "execution_count": 5,
     "metadata": {},
     "output_type": "execute_result"
    }
   ],
   "source": [
    "df.shape"
   ]
  },
  {
   "cell_type": "code",
   "execution_count": 6,
   "metadata": {},
   "outputs": [
    {
     "name": "stdout",
     "output_type": "stream",
     "text": [
      "6\n",
      "(13487, 5)\n"
     ]
    }
   ],
   "source": [
    "nc_ingred_index = [index for i, index in zip(df['Cleaned_Ingredients'], df.index) if all(j.isdigit() or j in string.punctuation for j in i)]\n",
    "nc_title_index = [index for i, index in zip(df['Title'], df.index) if all(j.isdigit() or j in string.punctuation for j in i)]\n",
    "nc_instr_index = [index for i, index in zip(df['Instructions'], df.index) if all(j.isdigit() or j in string.punctuation for j in i)]\n",
    "\n",
    "# Checking number of rows in each category that are only punc/nums\n",
    "index_list = [nc_ingred_index, nc_title_index, nc_instr_index]\n",
    "num_to_drop = [len(x) for x in index_list]\n",
    "\n",
    "# Generating unique indices for index_list and dropping from DataFrame\n",
    "inds_to_drop = set(reduce(add, index_list))\n",
    "print(len(inds_to_drop))\n",
    "\n",
    "# Dropping rows with indices from inds_to_drop and resetting index\n",
    "new_df = df.drop(index=inds_to_drop).reset_index(drop=True)\n",
    "print(new_df.shape)"
   ]
  },
  {
   "cell_type": "code",
   "execution_count": 7,
   "metadata": {},
   "outputs": [
    {
     "name": "stdout",
     "output_type": "stream",
     "text": [
      "(13480, 5)\n"
     ]
    },
    {
     "data": {
      "text/plain": [
       "Title                  0\n",
       "Ingredients            0\n",
       "Instructions           0\n",
       "Image_Name             0\n",
       "Cleaned_Ingredients    0\n",
       "dtype: int64"
      ]
     },
     "execution_count": 7,
     "metadata": {},
     "output_type": "execute_result"
    }
   ],
   "source": [
    "# Removing recipes which have too little instructions\n",
    "empty_instr_ind = [index for i, index in zip(new_df['Cleaned_Ingredients'], new_df.index) if len(i) < 20]\n",
    "new_df = new_df.drop(index = empty_instr_ind).reset_index(drop=True)\n",
    "\n",
    "print(new_df.shape)\n",
    "new_df.isna().sum()"
   ]
  },
  {
   "cell_type": "markdown",
   "metadata": {},
   "source": [
    "# Tokenising"
   ]
  },
  {
   "cell_type": "code",
   "execution_count": 8,
   "metadata": {},
   "outputs": [],
   "source": [
    "new_df['Cleaned_Ingredients'] = new_df['Cleaned_Ingredients'].apply(ast.literal_eval)\n",
    "new_df['Title']=new_df['Title'].astype(str)"
   ]
  },
  {
   "cell_type": "code",
   "execution_count": 9,
   "metadata": {},
   "outputs": [
    {
     "data": {
      "text/plain": [
       "0    Miso-Butter Roast Chicken With Acorn Squash Pa...\n",
       "1                      Crispy Salt and Pepper Potatoes\n",
       "2                          Thanksgiving Mac and Cheese\n",
       "3                   Italian Sausage and Bread Stuffing\n",
       "4                                         Newton's Law\n",
       "Name: Title, dtype: object"
      ]
     },
     "execution_count": 9,
     "metadata": {},
     "output_type": "execute_result"
    }
   ],
   "source": [
    "new_df['Title'].head(5)"
   ]
  },
  {
   "cell_type": "code",
   "execution_count": 10,
   "metadata": {},
   "outputs": [
    {
     "data": {
      "text/plain": [
       "['1 (3½–4-lb.) whole chicken',\n",
       " '2¾ tsp. kosher salt, divided, plus more',\n",
       " '2 small acorn squash (about 3 lb. total)',\n",
       " '2 Tbsp. finely chopped sage',\n",
       " '1 Tbsp. finely chopped rosemary',\n",
       " '6 Tbsp. unsalted butter, melted, plus 3 Tbsp. room temperature',\n",
       " '¼ tsp. ground allspice',\n",
       " 'Pinch of crushed red pepper flakes',\n",
       " 'Freshly ground black pepper',\n",
       " '⅓ loaf good-quality sturdy white bread, torn into 1\" pieces (about 2½ cups)',\n",
       " '2 medium apples (such as Gala or Pink Lady; about 14 oz. total), cored, cut into 1\" pieces',\n",
       " '2 Tbsp. extra-virgin olive oil',\n",
       " '½ small red onion, thinly sliced',\n",
       " '3 Tbsp. apple cider vinegar',\n",
       " '1 Tbsp. white miso',\n",
       " '¼ cup all-purpose flour',\n",
       " '2 Tbsp. unsalted butter, room temperature',\n",
       " '¼ cup dry white wine',\n",
       " '2 cups unsalted chicken broth',\n",
       " '2 tsp. white miso',\n",
       " 'Kosher salt',\n",
       " 'freshly ground pepper']"
      ]
     },
     "execution_count": 10,
     "metadata": {},
     "output_type": "execute_result"
    }
   ],
   "source": [
    "new_df.loc[0,'Cleaned_Ingredients']"
   ]
  },
  {
   "cell_type": "code",
   "execution_count": 11,
   "metadata": {},
   "outputs": [
    {
     "data": {
      "text/plain": [
       "0    1 (3½–4-lb.) whole chicken; 2¾ tsp. kosher sal...\n",
       "1    2 large egg whites; 1 pound new potatoes (abou...\n",
       "2    1 cup evaporated milk; 1 cup whole milk; 1 tsp...\n",
       "3    1 (¾- to 1-pound) round Italian loaf, cut into...\n",
       "4    1 teaspoon dark brown sugar; 1 teaspoon hot wa...\n",
       "Name: Ingredients_Text, dtype: object"
      ]
     },
     "execution_count": 11,
     "metadata": {},
     "output_type": "execute_result"
    }
   ],
   "source": [
    "new_df['Ingredients_Text'] = ['; '.join(ingredients) for ingredients in new_df['Cleaned_Ingredients']]\n",
    "new_df['Ingredients_Text'].head()\n"
   ]
  },
  {
   "cell_type": "code",
   "execution_count": 12,
   "metadata": {},
   "outputs": [],
   "source": [
    "new_df['Ingredients_Count'] = [len(ingredients) for ingredients in new_df['Cleaned_Ingredients']]"
   ]
  },
  {
   "cell_type": "code",
   "execution_count": 18,
   "metadata": {},
   "outputs": [],
   "source": [
    "new_df.head()\n",
    "new_df.to_csv('Processed_Recipees.csv')"
   ]
  },
  {
   "cell_type": "code",
   "execution_count": 14,
   "metadata": {},
   "outputs": [
    {
     "data": {
      "text/plain": [
       "'Miso-Butter Roast Chicken With Acorn Squash Panzanella 1 (3½–4-lb.) whole chicken; 2¾ tsp. kosher salt, divided, plus more; 2 small acorn squash (about 3 lb. total); 2 Tbsp. finely chopped sage; 1 Tbsp. finely chopped rosemary; 6 Tbsp. unsalted butter, melted, plus 3 Tbsp. room temperature; ¼ tsp. ground allspice; Pinch of crushed red pepper flakes; Freshly ground black pepper; ⅓ loaf good-quality sturdy white bread, torn into 1\" pieces (about 2½ cups); 2 medium apples (such as Gala or Pink Lady; about 14 oz. total), cored, cut into 1\" pieces; 2 Tbsp. extra-virgin olive oil; ½ small red onion, thinly sliced; 3 Tbsp. apple cider vinegar; 1 Tbsp. white miso; ¼ cup all-purpose flour; 2 Tbsp. unsalted butter, room temperature; ¼ cup dry white wine; 2 cups unsalted chicken broth; 2 tsp. white miso; Kosher salt; freshly ground pepper Pat chicken dry with paper towels, season all over with 2 tsp. salt, and tie legs together with kitchen twine. Let sit at room temperature 1 hour.\\nMeanwhile, halve squash and scoop out seeds. Run a vegetable peeler along ridges of squash halves to remove skin. Cut each half into ½\"-thick wedges; arrange on a rimmed baking sheet.\\nCombine sage, rosemary, and 6 Tbsp. melted butter in a large bowl; pour half of mixture over squash on baking sheet. Sprinkle squash with allspice, red pepper flakes, and ½ tsp. salt and season with black pepper; toss to coat.\\nAdd bread, apples, oil, and ¼ tsp. salt to remaining herb butter in bowl; season with black pepper and toss to combine. Set aside.\\nPlace onion and vinegar in a small bowl; season with salt and toss to coat. Let sit, tossing occasionally, until ready to serve.\\nPlace a rack in middle and lower third of oven; preheat to 425°F. Mix miso and 3 Tbsp. room-temperature butter in a small bowl until smooth. Pat chicken dry with paper towels, then rub or brush all over with miso butter. Place chicken in a large cast-iron skillet and roast on middle rack until an instant-read thermometer inserted into the thickest part of breast registers 155°F, 50–60 minutes. (Temperature will climb to 165°F while chicken rests.) Let chicken rest in skillet at least 5 minutes, then transfer to a plate; reserve skillet.\\nMeanwhile, roast squash on lower rack until mostly tender, about 25 minutes. Remove from oven and scatter reserved bread mixture over, spreading into as even a layer as you can manage. Return to oven and roast until bread is golden brown and crisp and apples are tender, about 15 minutes. Remove from oven, drain pickled onions, and toss to combine. Transfer to a serving dish.\\nUsing your fingers, mash flour and butter in a small bowl to combine.\\nSet reserved skillet with chicken drippings over medium heat. You should have about ¼ cup, but a little over or under is all good. (If you have significantly more, drain off and set excess aside.) Add wine and cook, stirring often and scraping up any browned bits with a wooden spoon, until bits are loosened and wine is reduced by about half (you should be able to smell the wine), about 2 minutes. Add butter mixture; cook, stirring often, until a smooth paste forms, about 2 minutes. Add broth and any reserved drippings and cook, stirring constantly, until combined and thickened, 6–8 minutes. Remove from heat and stir in miso. Taste and season with salt and black pepper.\\nServe chicken with gravy and squash panzanella alongside.'"
      ]
     },
     "execution_count": 14,
     "metadata": {},
     "output_type": "execute_result"
    }
   ],
   "source": [
    "all_text = new_df['Title'] + ' ' + new_df['Ingredients_Text'] + ' ' + new_df['Instructions']\n",
    "all_text[0]"
   ]
  },
  {
   "cell_type": "code",
   "execution_count": 17,
   "metadata": {},
   "outputs": [],
   "source": [
    "all_text.to_csv(\"All_text.csv\")"
   ]
  },
  {
   "cell_type": "code",
   "execution_count": 20,
   "metadata": {},
   "outputs": [],
   "source": [
    "def clean_text(documents):\n",
    "    cleaned_text = []\n",
    "    for doc in documents:\n",
    "        doc = doc.translate(str.maketrans('', '', string.punctuation)) # Remove Punctuation\n",
    "        doc = re.sub(r'\\d+', '', doc) # Remove Digits\n",
    "        doc = doc.replace('\\n',' ') # Remove New Lines\n",
    "        doc = doc.strip() # Remove Leading White Space\n",
    "        doc = re.sub(' +', ' ', doc) # Remove multiple white spaces\n",
    "        cleaned_text.append(doc)\n",
    "    return cleaned_text\n",
    "\n",
    "# Cleaning Text\n",
    "cleaned_text = clean_text(all_text)\n",
    "pd.Series(cleaned_text).to_csv('Cleaned_Text.csv')"
   ]
  },
  {
   "cell_type": "code",
   "execution_count": 16,
   "metadata": {},
   "outputs": [
    {
     "data": {
      "text/plain": [
       "'Thanksgiving Mac and Cheese 1 cup evaporated milk; 1 cup whole milk; 1 tsp. garlic powder; 1 tsp. onion powder; 1 tsp. smoked paprika; ½ tsp. freshly ground black pepper; 1 tsp. kosher salt, plus more; 2 lb. extra-sharp cheddar, coarsely grated; 4 oz. full-fat cream cheese; 1 lb. elbow macaroni Place a rack in middle of oven; preheat to 400°. Bring evaporated milk and whole milk to a bare simmer in a large saucepan over medium heat. Whisk in garlic powder, onion powder, paprika, pepper, and 1 tsp. salt. Working in batches, whisk in three fourths of the cheddar, then all of the cream cheese.\\nMeanwhile, bring a large pot of generously salted water to a boil (it should have a little less salt than seawater). Cook macaroni, stirring occasionally, until very al dente, about 4 minutes. Drain in a colander.\\nAdd macaroni to cheese sauce in pan and mix until well coated. Evenly spread out half of macaroni mixture in a 13x9\" baking dish. Sprinkle half of remaining cheddar evenly over. Layer remaining macaroni mixture on top and sprinkle with remaining cheddar. Bake until all of the cheese is melted, about 10 minutes. Let cool slightly before serving.'"
      ]
     },
     "execution_count": 16,
     "metadata": {},
     "output_type": "execute_result"
    }
   ],
   "source": [
    "all_text[2]"
   ]
  },
  {
   "cell_type": "code",
   "execution_count": 17,
   "metadata": {},
   "outputs": [
    {
     "data": {
      "text/plain": [
       "'Thanksgiving Mac and Cheese cup evaporated milk cup whole milk tsp garlic powder tsp onion powder tsp smoked paprika ½ tsp freshly ground black pepper tsp kosher salt plus more lb extrasharp cheddar coarsely grated oz fullfat cream cheese lb elbow macaroni Place a rack in middle of oven preheat to ° Bring evaporated milk and whole milk to a bare simmer in a large saucepan over medium heat Whisk in garlic powder onion powder paprika pepper and tsp salt Working in batches whisk in three fourths of the cheddar then all of the cream cheese Meanwhile bring a large pot of generously salted water to a boil it should have a little less salt than seawater Cook macaroni stirring occasionally until very al dente about minutes Drain in a colander Add macaroni to cheese sauce in pan and mix until well coated Evenly spread out half of macaroni mixture in a x baking dish Sprinkle half of remaining cheddar evenly over Layer remaining macaroni mixture on top and sprinkle with remaining cheddar Bake until all of the cheese is melted about minutes Let cool slightly before serving'"
      ]
     },
     "execution_count": 17,
     "metadata": {},
     "output_type": "execute_result"
    }
   ],
   "source": [
    "cleaned_text[2]"
   ]
  },
  {
   "cell_type": "markdown",
   "metadata": {},
   "source": [
    "# strip down the text as much as possible. In this case that means lemmatizing words and removing stop words. The goal here is not text prediction, but similarity measures and keyword extraction, which don't require the semantic granularity that stop words and non-lemmatized words might provide."
   ]
  },
  {
   "cell_type": "code",
   "execution_count": 18,
   "metadata": {},
   "outputs": [
    {
     "data": {
      "text/plain": [
       "'Thanksgiving Mac Cheese cup evaporate milk cup milk tsp garlic powder tsp onion powder tsp smoke paprika ½ tsp freshly grind black pepper tsp kosher salt plus lb extrasharp cheddar coarsely grated oz fullfat cream cheese lb elbow macaroni Place rack middle oven preheat ° bring evaporate milk milk bare simmer large saucepan medium heat Whisk garlic powder onion powder paprika pepper tsp salt Working batch whisk fourth cheddar cream cheese bring large pot generously salt water boil little salt seawater Cook macaroni stir occasionally al dente minute Drain colander Add macaroni cheese sauce pan mix coated Evenly spread half macaroni mixture x bake dish Sprinkle half remain cheddar evenly Layer remain macaroni mixture sprinkle remain cheddar Bake cheese melt minute let cool slightly serve'"
      ]
     },
     "execution_count": 18,
     "metadata": {},
     "output_type": "execute_result"
    }
   ],
   "source": [
    "# Testing Strategies and Code\n",
    "nlp = spacy.load(\"en_core_web_sm\")\n",
    "\n",
    "' '.join([token.lemma_ for token in nlp(cleaned_text[2]) if not token.is_stop])"
   ]
  },
  {
   "cell_type": "code",
   "execution_count": 19,
   "metadata": {},
   "outputs": [],
   "source": [
    "# Tokenizing Function that lemmatizes words and removes Stop Words\n",
    "def text_tokenizer(documents):\n",
    "    tokenized_documents = []\n",
    "    for doc in documents:\n",
    "        tok_doc = ' '.join([token.lemma_ for token in nlp(doc) if not token.is_stop])\n",
    "        tokenized_documents.append(tok_doc)\n",
    "    return tokenized_documents"
   ]
  },
  {
   "cell_type": "code",
   "execution_count": 20,
   "metadata": {},
   "outputs": [],
   "source": [
    "tokenized_text = text_tokenizer(cleaned_text)"
   ]
  },
  {
   "cell_type": "markdown",
   "metadata": {},
   "source": [
    "# Creating a new File to not run the entire code again (Which takes too long)."
   ]
  },
  {
   "cell_type": "code",
   "execution_count": 21,
   "metadata": {},
   "outputs": [
    {
     "name": "stdout",
     "output_type": "stream",
     "text": [
      "MisoButter Roast Chicken Acorn Squash Panzanella ½–lb chicken ¾ tsp kosher salt divide plus small acorn squash lb total Tbsp finely chop sage Tbsp finely chop rosemary Tbsp unsalted butter melt plus tbsp room temperature ¼ tsp ground allspice Pinch crushed red pepper flake freshly ground black pepper ⅓ loaf goodquality sturdy white bread tear piece ½ cup medium apple Gala Pink Lady oz total core cut piece Tbsp extravirgin olive oil ½ small red onion thinly slice Tbsp apple cider vinegar Tbsp white miso ¼ cup allpurpose flour Tbsp unsalted butter room temperature ¼ cup dry white wine cup unsalte chicken broth tsp white miso Kosher salt freshly ground pepper Pat chicken dry paper towel season tsp salt tie leg kitchen twine let sit room temperature hour halve squash scoop seed run vegetable peeler ridge squash half remove skin cut half ½thick wedge arrange rimmed baking sheet Combine sage rosemary Tbsp melt butter large bowl pour half mixture squash bake sheet Sprinkle squash allspice red pepper flake ½ tsp salt season black pepper toss coat Add bread apple oil ¼ tsp salt remain herb butter bowl season black pepper toss combine Set aside Place onion vinegar small bowl season salt toss coat let sit tossing occasionally ready serve Place rack middle low oven preheat ° F Mix miso Tbsp roomtemperature butter small bowl smooth Pat chicken dry paper towel rub brush miso butter Place chicken large castiron skillet roast middle rack instantread thermometer insert thick breast register ° F – minute Temperature climb ° f chicken rest let chicken rest skillet minute transfer plate reserve skillet roast squash low rack tender minute Remove oven scatter reserve bread mixture spread layer manage Return oven roast bread golden brown crisp apple tender minute Remove oven drain pickle onion toss combine Transfer serve dish finger mash flour butter small bowl combine Set reserve skillet chicken dripping medium heat ¼ cup little good significantly drain set excess aside add wine cook stir scrape brown bit wooden spoon bit loosen wine reduce half able smell wine minute add butter mixture cook stir smooth paste form minute add broth reserve dripping cook stir constantly combine thicken – minute remove heat stir miso Taste season salt black pepper Serve chicken gravy squash panzanella alongside\n",
      "\n",
      "\n",
      "\n",
      "\n",
      "Thanksgiving Mac Cheese cup evaporate milk cup milk tsp garlic powder tsp onion powder tsp smoke paprika ½ tsp freshly grind black pepper tsp kosher salt plus lb extrasharp cheddar coarsely grated oz fullfat cream cheese lb elbow macaroni Place rack middle oven preheat ° bring evaporate milk milk bare simmer large saucepan medium heat Whisk garlic powder onion powder paprika pepper tsp salt Working batch whisk fourth cheddar cream cheese bring large pot generously salt water boil little salt seawater Cook macaroni stir occasionally al dente minute Drain colander Add macaroni cheese sauce pan mix coated Evenly spread half macaroni mixture x bake dish Sprinkle half remain cheddar evenly Layer remain macaroni mixture sprinkle remain cheddar Bake cheese melt minute let cool slightly serve\n"
     ]
    }
   ],
   "source": [
    "pd.Series(tokenized_text).to_csv('tokenized_text.csv')\n",
    "\n",
    "print(tokenized_text[0])\n",
    "print(\"\\n\"*3)\n",
    "print(tokenized_text[2])"
   ]
  }
 ],
 "metadata": {
  "kernelspec": {
   "display_name": "Python 3",
   "language": "python",
   "name": "python3"
  },
  "language_info": {
   "codemirror_mode": {
    "name": "ipython",
    "version": 3
   },
   "file_extension": ".py",
   "mimetype": "text/x-python",
   "name": "python",
   "nbconvert_exporter": "python",
   "pygments_lexer": "ipython3",
   "version": "3.11.2"
  }
 },
 "nbformat": 4,
 "nbformat_minor": 2
}
